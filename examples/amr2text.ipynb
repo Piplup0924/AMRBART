{
 "cells": [
  {
   "cell_type": "code",
   "execution_count": null,
   "metadata": {},
   "outputs": [],
   "source": [
    "import json\n",
    "\n",
    "filename = "
   ]
  },
  {
   "cell_type": "code",
   "execution_count": null,
   "metadata": {},
   "outputs": [],
   "source": [
    "#获取尾实体3元组"
   ]
  }
 ],
 "metadata": {
  "kernelspec": {
   "display_name": "pE",
   "language": "python",
   "name": "python3"
  },
  "language_info": {
   "name": "python",
   "version": "3.7.13 (default, Mar 29 2022, 02:18:16) \n[GCC 7.5.0]"
  },
  "orig_nbformat": 4,
  "vscode": {
   "interpreter": {
    "hash": "562fe007ed5ab548a40930f21c8380b97f63e374fe807231b001c22447b2e138"
   }
  }
 },
 "nbformat": 4,
 "nbformat_minor": 2
}
